{
 "cells": [
  {
   "cell_type": "code",
   "execution_count": 1,
   "id": "5fb14415",
   "metadata": {},
   "outputs": [],
   "source": [
    "import pandas as pd\n",
    "from folium.plugins import HeatMap\n",
    "import plotly.express as px\n",
    "import folium\n",
    "import matplotlib.pyplot as plt\n",
    "from geopy.geocoders import Nominatim\n",
    "from folium.plugins import FastMarkerCluster, MarkerCluster\n",
    "\n",
    "\n",
    "from jupyter_dash import JupyterDash\n",
    "import dash\n",
    "from dash import dcc\n",
    "from dash import html\n",
    "external_stylesheets = ['https://codepen.io/chriddyp/pen/bWLwgP.css']\n",
    "\n",
    "from dash.dependencies import Input, Output"
   ]
  },
  {
   "cell_type": "markdown",
   "id": "b26f3d94",
   "metadata": {},
   "source": [
    "### Analysis Part I (All earthquakes)"
   ]
  },
  {
   "cell_type": "code",
   "execution_count": 2,
   "id": "230ef6a1",
   "metadata": {},
   "outputs": [],
   "source": [
    "df = pd.read_csv(r'C:\\Users\\KOSTAS\\Desktop\\projects\\E_D_A-projects-python\\Earthquakes_Analysis\\data\\earthquake_data.csv')"
   ]
  },
  {
   "cell_type": "markdown",
   "id": "ebee1ee4",
   "metadata": {},
   "source": [
    "# Paizontas me folium "
   ]
  },
  {
   "cell_type": "code",
   "execution_count": 6,
   "id": "2fd58a26",
   "metadata": {},
   "outputs": [],
   "source": [
    "major_df = pd.read_csv(r'C:\\Users\\KOSTAS\\Desktop\\projects\\E_D_A-projects-python\\Earthquakes_Analysis\\data\\major_earthquake_data.csv')"
   ]
  },
  {
   "cell_type": "code",
   "execution_count": 7,
   "id": "3dc0c3f0",
   "metadata": {},
   "outputs": [
    {
     "data": {
      "text/plain": [
       "(612, 11)"
      ]
     },
     "execution_count": 7,
     "metadata": {},
     "output_type": "execute_result"
    }
   ],
   "source": [
    "major_df.shape"
   ]
  },
  {
   "cell_type": "code",
   "execution_count": 8,
   "id": "e4b5e01c",
   "metadata": {
    "scrolled": true
   },
   "outputs": [
    {
     "data": {
      "text/html": [
       "<div>\n",
       "<style scoped>\n",
       "    .dataframe tbody tr th:only-of-type {\n",
       "        vertical-align: middle;\n",
       "    }\n",
       "\n",
       "    .dataframe tbody tr th {\n",
       "        vertical-align: top;\n",
       "    }\n",
       "\n",
       "    .dataframe thead th {\n",
       "        text-align: right;\n",
       "    }\n",
       "</style>\n",
       "<table border=\"1\" class=\"dataframe\">\n",
       "  <thead>\n",
       "    <tr style=\"text-align: right;\">\n",
       "      <th></th>\n",
       "      <th>Year</th>\n",
       "      <th>Month</th>\n",
       "      <th>Date</th>\n",
       "      <th>Hours</th>\n",
       "      <th>Minutes</th>\n",
       "      <th>Latitude</th>\n",
       "      <th>Longitude</th>\n",
       "      <th>Magnitude (Richter)</th>\n",
       "      <th>coordinates</th>\n",
       "      <th>Country</th>\n",
       "      <th>District</th>\n",
       "    </tr>\n",
       "  </thead>\n",
       "  <tbody>\n",
       "    <tr>\n",
       "      <th>0</th>\n",
       "      <td>1901</td>\n",
       "      <td>9</td>\n",
       "      <td>12</td>\n",
       "      <td>6</td>\n",
       "      <td>15</td>\n",
       "      <td>39.0</td>\n",
       "      <td>22.2</td>\n",
       "      <td>5.6</td>\n",
       "      <td>(39.0, 22.2)</td>\n",
       "      <td>True</td>\n",
       "      <td>Central Greece</td>\n",
       "    </tr>\n",
       "  </tbody>\n",
       "</table>\n",
       "</div>"
      ],
      "text/plain": [
       "   Year  Month  Date  Hours  Minutes  Latitude  Longitude  \\\n",
       "0  1901      9    12      6       15      39.0       22.2   \n",
       "\n",
       "   Magnitude (Richter)   coordinates  Country        District  \n",
       "0                  5.6  (39.0, 22.2)     True  Central Greece  "
      ]
     },
     "execution_count": 8,
     "metadata": {},
     "output_type": "execute_result"
    }
   ],
   "source": [
    "major_df.head(1)"
   ]
  },
  {
   "cell_type": "code",
   "execution_count": 9,
   "id": "62500153",
   "metadata": {},
   "outputs": [],
   "source": [
    "my_df = major_df[major_df['Year'] == 2000]"
   ]
  },
  {
   "cell_type": "code",
   "execution_count": 10,
   "id": "260d0d01",
   "metadata": {},
   "outputs": [],
   "source": [
    "my_df = my_df.reset_index()"
   ]
  },
  {
   "cell_type": "code",
   "execution_count": 11,
   "id": "f943bcd2",
   "metadata": {},
   "outputs": [],
   "source": [
    "my_df.drop('index',axis=1,inplace=True)"
   ]
  },
  {
   "cell_type": "code",
   "execution_count": 12,
   "id": "cf024ba5",
   "metadata": {},
   "outputs": [
    {
     "data": {
      "text/html": [
       "<div style=\"width:100%;\"><div style=\"position:relative;width:100%;height:0;padding-bottom:60%;\"><span style=\"color:#565656\">Make this Notebook Trusted to load map: File -> Trust Notebook</span><iframe src=\"about:blank\" style=\"position:absolute;width:100%;height:100%;left:0;top:0;border:none !important;\" data-html=%3C%21DOCTYPE%20html%3E%0A%3Chead%3E%20%20%20%20%0A%20%20%20%20%3Cmeta%20http-equiv%3D%22content-type%22%20content%3D%22text/html%3B%20charset%3DUTF-8%22%20/%3E%0A%20%20%20%20%0A%20%20%20%20%20%20%20%20%3Cscript%3E%0A%20%20%20%20%20%20%20%20%20%20%20%20L_NO_TOUCH%20%3D%20false%3B%0A%20%20%20%20%20%20%20%20%20%20%20%20L_DISABLE_3D%20%3D%20false%3B%0A%20%20%20%20%20%20%20%20%3C/script%3E%0A%20%20%20%20%0A%20%20%20%20%3Cstyle%3Ehtml%2C%20body%20%7Bwidth%3A%20100%25%3Bheight%3A%20100%25%3Bmargin%3A%200%3Bpadding%3A%200%3B%7D%3C/style%3E%0A%20%20%20%20%3Cstyle%3E%23map%20%7Bposition%3Aabsolute%3Btop%3A0%3Bbottom%3A0%3Bright%3A0%3Bleft%3A0%3B%7D%3C/style%3E%0A%20%20%20%20%3Cscript%20src%3D%22https%3A//cdn.jsdelivr.net/npm/leaflet%401.6.0/dist/leaflet.js%22%3E%3C/script%3E%0A%20%20%20%20%3Cscript%20src%3D%22https%3A//code.jquery.com/jquery-1.12.4.min.js%22%3E%3C/script%3E%0A%20%20%20%20%3Cscript%20src%3D%22https%3A//maxcdn.bootstrapcdn.com/bootstrap/3.2.0/js/bootstrap.min.js%22%3E%3C/script%3E%0A%20%20%20%20%3Cscript%20src%3D%22https%3A//cdnjs.cloudflare.com/ajax/libs/Leaflet.awesome-markers/2.0.2/leaflet.awesome-markers.js%22%3E%3C/script%3E%0A%20%20%20%20%3Clink%20rel%3D%22stylesheet%22%20href%3D%22https%3A//cdn.jsdelivr.net/npm/leaflet%401.6.0/dist/leaflet.css%22/%3E%0A%20%20%20%20%3Clink%20rel%3D%22stylesheet%22%20href%3D%22https%3A//maxcdn.bootstrapcdn.com/bootstrap/3.2.0/css/bootstrap.min.css%22/%3E%0A%20%20%20%20%3Clink%20rel%3D%22stylesheet%22%20href%3D%22https%3A//maxcdn.bootstrapcdn.com/bootstrap/3.2.0/css/bootstrap-theme.min.css%22/%3E%0A%20%20%20%20%3Clink%20rel%3D%22stylesheet%22%20href%3D%22https%3A//maxcdn.bootstrapcdn.com/font-awesome/4.6.3/css/font-awesome.min.css%22/%3E%0A%20%20%20%20%3Clink%20rel%3D%22stylesheet%22%20href%3D%22https%3A//cdnjs.cloudflare.com/ajax/libs/Leaflet.awesome-markers/2.0.2/leaflet.awesome-markers.css%22/%3E%0A%20%20%20%20%3Clink%20rel%3D%22stylesheet%22%20href%3D%22https%3A//cdn.jsdelivr.net/gh/python-visualization/folium/folium/templates/leaflet.awesome.rotate.min.css%22/%3E%0A%20%20%20%20%0A%20%20%20%20%20%20%20%20%20%20%20%20%3Cmeta%20name%3D%22viewport%22%20content%3D%22width%3Ddevice-width%2C%0A%20%20%20%20%20%20%20%20%20%20%20%20%20%20%20%20initial-scale%3D1.0%2C%20maximum-scale%3D1.0%2C%20user-scalable%3Dno%22%20/%3E%0A%20%20%20%20%20%20%20%20%20%20%20%20%3Cstyle%3E%0A%20%20%20%20%20%20%20%20%20%20%20%20%20%20%20%20%23map_d4a8cc3eeaaf4a1fa7c1ed34e37ae305%20%7B%0A%20%20%20%20%20%20%20%20%20%20%20%20%20%20%20%20%20%20%20%20position%3A%20relative%3B%0A%20%20%20%20%20%20%20%20%20%20%20%20%20%20%20%20%20%20%20%20width%3A%20100.0%25%3B%0A%20%20%20%20%20%20%20%20%20%20%20%20%20%20%20%20%20%20%20%20height%3A%20100.0%25%3B%0A%20%20%20%20%20%20%20%20%20%20%20%20%20%20%20%20%20%20%20%20left%3A%200.0%25%3B%0A%20%20%20%20%20%20%20%20%20%20%20%20%20%20%20%20%20%20%20%20top%3A%200.0%25%3B%0A%20%20%20%20%20%20%20%20%20%20%20%20%20%20%20%20%7D%0A%20%20%20%20%20%20%20%20%20%20%20%20%3C/style%3E%0A%20%20%20%20%20%20%20%20%0A%3C/head%3E%0A%3Cbody%3E%20%20%20%20%0A%20%20%20%20%0A%20%20%20%20%20%20%20%20%20%20%20%20%3Cdiv%20class%3D%22folium-map%22%20id%3D%22map_d4a8cc3eeaaf4a1fa7c1ed34e37ae305%22%20%3E%3C/div%3E%0A%20%20%20%20%20%20%20%20%0A%3C/body%3E%0A%3Cscript%3E%20%20%20%20%0A%20%20%20%20%0A%20%20%20%20%20%20%20%20%20%20%20%20var%20map_d4a8cc3eeaaf4a1fa7c1ed34e37ae305%20%3D%20L.map%28%0A%20%20%20%20%20%20%20%20%20%20%20%20%20%20%20%20%22map_d4a8cc3eeaaf4a1fa7c1ed34e37ae305%22%2C%0A%20%20%20%20%20%20%20%20%20%20%20%20%20%20%20%20%7B%0A%20%20%20%20%20%20%20%20%20%20%20%20%20%20%20%20%20%20%20%20center%3A%20%5B38.91%2C%2020.58%5D%2C%0A%20%20%20%20%20%20%20%20%20%20%20%20%20%20%20%20%20%20%20%20crs%3A%20L.CRS.EPSG3857%2C%0A%20%20%20%20%20%20%20%20%20%20%20%20%20%20%20%20%20%20%20%20zoom%3A%209%2C%0A%20%20%20%20%20%20%20%20%20%20%20%20%20%20%20%20%20%20%20%20zoomControl%3A%20true%2C%0A%20%20%20%20%20%20%20%20%20%20%20%20%20%20%20%20%20%20%20%20preferCanvas%3A%20false%2C%0A%20%20%20%20%20%20%20%20%20%20%20%20%20%20%20%20%7D%0A%20%20%20%20%20%20%20%20%20%20%20%20%29%3B%0A%20%20%20%20%20%20%20%20%20%20%20%20L.control.scale%28%29.addTo%28map_d4a8cc3eeaaf4a1fa7c1ed34e37ae305%29%3B%0A%0A%20%20%20%20%20%20%20%20%20%20%20%20%0A%0A%20%20%20%20%20%20%20%20%0A%20%20%20%20%0A%20%20%20%20%20%20%20%20%20%20%20%20var%20tile_layer_66b6bb40ad7f4ff68da2200f5e6abc0a%20%3D%20L.tileLayer%28%0A%20%20%20%20%20%20%20%20%20%20%20%20%20%20%20%20%22https%3A//%7Bs%7D.tile.openstreetmap.org/%7Bz%7D/%7Bx%7D/%7By%7D.png%22%2C%0A%20%20%20%20%20%20%20%20%20%20%20%20%20%20%20%20%7B%22attribution%22%3A%20%22Data%20by%20%5Cu0026copy%3B%20%5Cu003ca%20href%3D%5C%22http%3A//openstreetmap.org%5C%22%5Cu003eOpenStreetMap%5Cu003c/a%5Cu003e%2C%20under%20%5Cu003ca%20href%3D%5C%22http%3A//www.openstreetmap.org/copyright%5C%22%5Cu003eODbL%5Cu003c/a%5Cu003e.%22%2C%20%22detectRetina%22%3A%20false%2C%20%22maxNativeZoom%22%3A%2018%2C%20%22maxZoom%22%3A%2018%2C%20%22minZoom%22%3A%200%2C%20%22noWrap%22%3A%20false%2C%20%22opacity%22%3A%201%2C%20%22subdomains%22%3A%20%22abc%22%2C%20%22tms%22%3A%20false%7D%0A%20%20%20%20%20%20%20%20%20%20%20%20%29.addTo%28map_d4a8cc3eeaaf4a1fa7c1ed34e37ae305%29%3B%0A%20%20%20%20%20%20%20%20%0A%20%20%20%20%0A%20%20%20%20%20%20%20%20%20%20%20%20var%20marker_f972b4ba4c174199859f89d69b176cc6%20%3D%20L.marker%28%0A%20%20%20%20%20%20%20%20%20%20%20%20%20%20%20%20%5B38.91%2C%2020.58%5D%2C%0A%20%20%20%20%20%20%20%20%20%20%20%20%20%20%20%20%7B%7D%0A%20%20%20%20%20%20%20%20%20%20%20%20%29.addTo%28map_d4a8cc3eeaaf4a1fa7c1ed34e37ae305%29%3B%0A%20%20%20%20%20%20%20%20%0A%20%20%20%20%0A%20%20%20%20%20%20%20%20var%20popup_b204ae264e98419b8df5bd7a7c49773b%20%3D%20L.popup%28%7B%22maxWidth%22%3A%20%22100%25%22%7D%29%3B%0A%0A%20%20%20%20%20%20%20%20%0A%20%20%20%20%20%20%20%20%20%20%20%20var%20html_9ba86fa608fc4e15bcbbde39acb3636a%20%3D%20%24%28%60%3Cdiv%20id%3D%22html_9ba86fa608fc4e15bcbbde39acb3636a%22%20style%3D%22width%3A%20100.0%25%3B%20height%3A%20100.0%25%3B%22%3E%5B%27No.%20of%20earthquakes%3A5.3%27%5D%3C/div%3E%60%29%5B0%5D%3B%0A%20%20%20%20%20%20%20%20%20%20%20%20popup_b204ae264e98419b8df5bd7a7c49773b.setContent%28html_9ba86fa608fc4e15bcbbde39acb3636a%29%3B%0A%20%20%20%20%20%20%20%20%0A%0A%20%20%20%20%20%20%20%20marker_f972b4ba4c174199859f89d69b176cc6.bindPopup%28popup_b204ae264e98419b8df5bd7a7c49773b%29%0A%20%20%20%20%20%20%20%20%3B%0A%0A%20%20%20%20%20%20%20%20%0A%20%20%20%20%0A%3C/script%3E onload=\"this.contentDocument.open();this.contentDocument.write(    decodeURIComponent(this.getAttribute('data-html')));this.contentDocument.close();\" allowfullscreen webkitallowfullscreen mozallowfullscreen></iframe></div></div>"
      ],
      "text/plain": [
       "<folium.folium.Map at 0x2508a7e9cd0>"
      ]
     },
     "execution_count": 12,
     "metadata": {},
     "output_type": "execute_result"
    }
   ],
   "source": [
    "most_earthquakes_map = folium.Map(location=[my_df['Latitude'].mean(), my_df['Longitude'].mean()],\n",
    "                    zoom_start=9, control_scale=True)\n",
    "earthquakes_locations = my_df[['Latitude', 'Longitude']]\n",
    "earthquakes_location_list = earthquakes_locations.values.tolist()\n",
    "for point in range(len(earthquakes_location_list)):\n",
    "    folium.Marker(earthquakes_location_list[point], popup = [\"No. of earthquakes:\"+str(my_df['Magnitude (Richter)']\n",
    "                                                                                       [point])] ).add_to(most_earthquakes_map)\n",
    "most_earthquakes_map"
   ]
  },
  {
   "cell_type": "code",
   "execution_count": 13,
   "id": "14065c94",
   "metadata": {},
   "outputs": [
    {
     "data": {
      "text/html": [
       "<div>\n",
       "<style scoped>\n",
       "    .dataframe tbody tr th:only-of-type {\n",
       "        vertical-align: middle;\n",
       "    }\n",
       "\n",
       "    .dataframe tbody tr th {\n",
       "        vertical-align: top;\n",
       "    }\n",
       "\n",
       "    .dataframe thead th {\n",
       "        text-align: right;\n",
       "    }\n",
       "</style>\n",
       "<table border=\"1\" class=\"dataframe\">\n",
       "  <thead>\n",
       "    <tr style=\"text-align: right;\">\n",
       "      <th></th>\n",
       "      <th>Year</th>\n",
       "      <th>Month</th>\n",
       "      <th>Date</th>\n",
       "      <th>Hours</th>\n",
       "      <th>Minutes</th>\n",
       "      <th>Latitude</th>\n",
       "      <th>Longitude</th>\n",
       "      <th>Magnitude (Richter)</th>\n",
       "      <th>coordinates</th>\n",
       "      <th>Country</th>\n",
       "      <th>District</th>\n",
       "    </tr>\n",
       "  </thead>\n",
       "  <tbody>\n",
       "    <tr>\n",
       "      <th>0</th>\n",
       "      <td>1901</td>\n",
       "      <td>9</td>\n",
       "      <td>12</td>\n",
       "      <td>6</td>\n",
       "      <td>15</td>\n",
       "      <td>39.0</td>\n",
       "      <td>22.2</td>\n",
       "      <td>5.6</td>\n",
       "      <td>(39.0, 22.2)</td>\n",
       "      <td>True</td>\n",
       "      <td>Central Greece</td>\n",
       "    </tr>\n",
       "  </tbody>\n",
       "</table>\n",
       "</div>"
      ],
      "text/plain": [
       "   Year  Month  Date  Hours  Minutes  Latitude  Longitude  \\\n",
       "0  1901      9    12      6       15      39.0       22.2   \n",
       "\n",
       "   Magnitude (Richter)   coordinates  Country        District  \n",
       "0                  5.6  (39.0, 22.2)     True  Central Greece  "
      ]
     },
     "execution_count": 13,
     "metadata": {},
     "output_type": "execute_result"
    }
   ],
   "source": [
    "major_df.head(1)"
   ]
  },
  {
   "cell_type": "code",
   "execution_count": 14,
   "id": "3d016ff6",
   "metadata": {},
   "outputs": [],
   "source": [
    "def map_from_df(year):\n",
    "    major_df = pd.read_csv(r'C:\\Users\\KOSTAS\\Desktop\\projects\\E_D_A-projects-python\\Earthquakes_Analysis\\data\\major_earthquake_data.csv')\n",
    "    my_df = major_df[major_df['Year'] == year]\n",
    "    my_df = my_df.reset_index()\n",
    "    my_df.drop('index',axis=1,inplace=True)\n",
    "    \n",
    "    base_map = folium.Map(location=[major_df['Latitude'].mean(), major_df['Longitude'].mean()],\n",
    "                    zoom_start=6, control_scale=True)\n",
    "    earthquakes_locations = my_df[['Latitude', 'Longitude']]\n",
    "    earthquakes_location_list = earthquakes_locations.values.tolist()\n",
    "    for point in range(len(earthquakes_location_list)):\n",
    "        folium.Marker(earthquakes_location_list[point], popup = [\"Month:\"+str(my_df['Month'][point]),\n",
    "                                                                 \"Date:\" + str(my_df['Date'][point]),\n",
    "                                                                                       \n",
    "            \"Magnitude (R):\"+str(my_df['Magnitude (Richter)'][point]) \n",
    "                                                                ] ).add_to(base_map)\n",
    "    return base_map\n"
   ]
  },
  {
   "cell_type": "code",
   "execution_count": 15,
   "id": "3016e7f2",
   "metadata": {},
   "outputs": [
    {
     "data": {
      "text/html": [
       "<div style=\"width:100%;\"><div style=\"position:relative;width:100%;height:0;padding-bottom:60%;\"><span style=\"color:#565656\">Make this Notebook Trusted to load map: File -> Trust Notebook</span><iframe src=\"about:blank\" style=\"position:absolute;width:100%;height:100%;left:0;top:0;border:none !important;\" data-html=%3C%21DOCTYPE%20html%3E%0A%3Chead%3E%20%20%20%20%0A%20%20%20%20%3Cmeta%20http-equiv%3D%22content-type%22%20content%3D%22text/html%3B%20charset%3DUTF-8%22%20/%3E%0A%20%20%20%20%0A%20%20%20%20%20%20%20%20%3Cscript%3E%0A%20%20%20%20%20%20%20%20%20%20%20%20L_NO_TOUCH%20%3D%20false%3B%0A%20%20%20%20%20%20%20%20%20%20%20%20L_DISABLE_3D%20%3D%20false%3B%0A%20%20%20%20%20%20%20%20%3C/script%3E%0A%20%20%20%20%0A%20%20%20%20%3Cstyle%3Ehtml%2C%20body%20%7Bwidth%3A%20100%25%3Bheight%3A%20100%25%3Bmargin%3A%200%3Bpadding%3A%200%3B%7D%3C/style%3E%0A%20%20%20%20%3Cstyle%3E%23map%20%7Bposition%3Aabsolute%3Btop%3A0%3Bbottom%3A0%3Bright%3A0%3Bleft%3A0%3B%7D%3C/style%3E%0A%20%20%20%20%3Cscript%20src%3D%22https%3A//cdn.jsdelivr.net/npm/leaflet%401.6.0/dist/leaflet.js%22%3E%3C/script%3E%0A%20%20%20%20%3Cscript%20src%3D%22https%3A//code.jquery.com/jquery-1.12.4.min.js%22%3E%3C/script%3E%0A%20%20%20%20%3Cscript%20src%3D%22https%3A//maxcdn.bootstrapcdn.com/bootstrap/3.2.0/js/bootstrap.min.js%22%3E%3C/script%3E%0A%20%20%20%20%3Cscript%20src%3D%22https%3A//cdnjs.cloudflare.com/ajax/libs/Leaflet.awesome-markers/2.0.2/leaflet.awesome-markers.js%22%3E%3C/script%3E%0A%20%20%20%20%3Clink%20rel%3D%22stylesheet%22%20href%3D%22https%3A//cdn.jsdelivr.net/npm/leaflet%401.6.0/dist/leaflet.css%22/%3E%0A%20%20%20%20%3Clink%20rel%3D%22stylesheet%22%20href%3D%22https%3A//maxcdn.bootstrapcdn.com/bootstrap/3.2.0/css/bootstrap.min.css%22/%3E%0A%20%20%20%20%3Clink%20rel%3D%22stylesheet%22%20href%3D%22https%3A//maxcdn.bootstrapcdn.com/bootstrap/3.2.0/css/bootstrap-theme.min.css%22/%3E%0A%20%20%20%20%3Clink%20rel%3D%22stylesheet%22%20href%3D%22https%3A//maxcdn.bootstrapcdn.com/font-awesome/4.6.3/css/font-awesome.min.css%22/%3E%0A%20%20%20%20%3Clink%20rel%3D%22stylesheet%22%20href%3D%22https%3A//cdnjs.cloudflare.com/ajax/libs/Leaflet.awesome-markers/2.0.2/leaflet.awesome-markers.css%22/%3E%0A%20%20%20%20%3Clink%20rel%3D%22stylesheet%22%20href%3D%22https%3A//cdn.jsdelivr.net/gh/python-visualization/folium/folium/templates/leaflet.awesome.rotate.min.css%22/%3E%0A%20%20%20%20%0A%20%20%20%20%20%20%20%20%20%20%20%20%3Cmeta%20name%3D%22viewport%22%20content%3D%22width%3Ddevice-width%2C%0A%20%20%20%20%20%20%20%20%20%20%20%20%20%20%20%20initial-scale%3D1.0%2C%20maximum-scale%3D1.0%2C%20user-scalable%3Dno%22%20/%3E%0A%20%20%20%20%20%20%20%20%20%20%20%20%3Cstyle%3E%0A%20%20%20%20%20%20%20%20%20%20%20%20%20%20%20%20%23map_12108abba417424d8f97e569db8edabb%20%7B%0A%20%20%20%20%20%20%20%20%20%20%20%20%20%20%20%20%20%20%20%20position%3A%20relative%3B%0A%20%20%20%20%20%20%20%20%20%20%20%20%20%20%20%20%20%20%20%20width%3A%20100.0%25%3B%0A%20%20%20%20%20%20%20%20%20%20%20%20%20%20%20%20%20%20%20%20height%3A%20100.0%25%3B%0A%20%20%20%20%20%20%20%20%20%20%20%20%20%20%20%20%20%20%20%20left%3A%200.0%25%3B%0A%20%20%20%20%20%20%20%20%20%20%20%20%20%20%20%20%20%20%20%20top%3A%200.0%25%3B%0A%20%20%20%20%20%20%20%20%20%20%20%20%20%20%20%20%7D%0A%20%20%20%20%20%20%20%20%20%20%20%20%3C/style%3E%0A%20%20%20%20%20%20%20%20%0A%3C/head%3E%0A%3Cbody%3E%20%20%20%20%0A%20%20%20%20%0A%20%20%20%20%20%20%20%20%20%20%20%20%3Cdiv%20class%3D%22folium-map%22%20id%3D%22map_12108abba417424d8f97e569db8edabb%22%20%3E%3C/div%3E%0A%20%20%20%20%20%20%20%20%0A%3C/body%3E%0A%3Cscript%3E%20%20%20%20%0A%20%20%20%20%0A%20%20%20%20%20%20%20%20%20%20%20%20var%20map_12108abba417424d8f97e569db8edabb%20%3D%20L.map%28%0A%20%20%20%20%20%20%20%20%20%20%20%20%20%20%20%20%22map_12108abba417424d8f97e569db8edabb%22%2C%0A%20%20%20%20%20%20%20%20%20%20%20%20%20%20%20%20%7B%0A%20%20%20%20%20%20%20%20%20%20%20%20%20%20%20%20%20%20%20%20center%3A%20%5B37.89181372549019%2C%2023.46632352941175%5D%2C%0A%20%20%20%20%20%20%20%20%20%20%20%20%20%20%20%20%20%20%20%20crs%3A%20L.CRS.EPSG3857%2C%0A%20%20%20%20%20%20%20%20%20%20%20%20%20%20%20%20%20%20%20%20zoom%3A%206%2C%0A%20%20%20%20%20%20%20%20%20%20%20%20%20%20%20%20%20%20%20%20zoomControl%3A%20true%2C%0A%20%20%20%20%20%20%20%20%20%20%20%20%20%20%20%20%20%20%20%20preferCanvas%3A%20false%2C%0A%20%20%20%20%20%20%20%20%20%20%20%20%20%20%20%20%7D%0A%20%20%20%20%20%20%20%20%20%20%20%20%29%3B%0A%20%20%20%20%20%20%20%20%20%20%20%20L.control.scale%28%29.addTo%28map_12108abba417424d8f97e569db8edabb%29%3B%0A%0A%20%20%20%20%20%20%20%20%20%20%20%20%0A%0A%20%20%20%20%20%20%20%20%0A%20%20%20%20%0A%20%20%20%20%20%20%20%20%20%20%20%20var%20tile_layer_83f1cabb97a843a2b7bc3c26d3e4bc1f%20%3D%20L.tileLayer%28%0A%20%20%20%20%20%20%20%20%20%20%20%20%20%20%20%20%22https%3A//%7Bs%7D.tile.openstreetmap.org/%7Bz%7D/%7Bx%7D/%7By%7D.png%22%2C%0A%20%20%20%20%20%20%20%20%20%20%20%20%20%20%20%20%7B%22attribution%22%3A%20%22Data%20by%20%5Cu0026copy%3B%20%5Cu003ca%20href%3D%5C%22http%3A//openstreetmap.org%5C%22%5Cu003eOpenStreetMap%5Cu003c/a%5Cu003e%2C%20under%20%5Cu003ca%20href%3D%5C%22http%3A//www.openstreetmap.org/copyright%5C%22%5Cu003eODbL%5Cu003c/a%5Cu003e.%22%2C%20%22detectRetina%22%3A%20false%2C%20%22maxNativeZoom%22%3A%2018%2C%20%22maxZoom%22%3A%2018%2C%20%22minZoom%22%3A%200%2C%20%22noWrap%22%3A%20false%2C%20%22opacity%22%3A%201%2C%20%22subdomains%22%3A%20%22abc%22%2C%20%22tms%22%3A%20false%7D%0A%20%20%20%20%20%20%20%20%20%20%20%20%29.addTo%28map_12108abba417424d8f97e569db8edabb%29%3B%0A%20%20%20%20%20%20%20%20%0A%20%20%20%20%0A%20%20%20%20%20%20%20%20%20%20%20%20var%20marker_1728bc31bbd840b5aa02887e1cc5325f%20%3D%20L.marker%28%0A%20%20%20%20%20%20%20%20%20%20%20%20%20%20%20%20%5B38.91%2C%2020.58%5D%2C%0A%20%20%20%20%20%20%20%20%20%20%20%20%20%20%20%20%7B%7D%0A%20%20%20%20%20%20%20%20%20%20%20%20%29.addTo%28map_12108abba417424d8f97e569db8edabb%29%3B%0A%20%20%20%20%20%20%20%20%0A%20%20%20%20%0A%20%20%20%20%20%20%20%20var%20popup_3f6163a444114ff2b3c946dcdca5743b%20%3D%20L.popup%28%7B%22maxWidth%22%3A%20%22100%25%22%7D%29%3B%0A%0A%20%20%20%20%20%20%20%20%0A%20%20%20%20%20%20%20%20%20%20%20%20var%20html_c2f8c18100914b53b8c3cd2a1d465279%20%3D%20%24%28%60%3Cdiv%20id%3D%22html_c2f8c18100914b53b8c3cd2a1d465279%22%20style%3D%22width%3A%20100.0%25%3B%20height%3A%20100.0%25%3B%22%3E%5B%27Month%3A5%27%2C%20%27Date%3A26%27%2C%20%27Magnitude%20%28R%29%3A5.3%27%5D%3C/div%3E%60%29%5B0%5D%3B%0A%20%20%20%20%20%20%20%20%20%20%20%20popup_3f6163a444114ff2b3c946dcdca5743b.setContent%28html_c2f8c18100914b53b8c3cd2a1d465279%29%3B%0A%20%20%20%20%20%20%20%20%0A%0A%20%20%20%20%20%20%20%20marker_1728bc31bbd840b5aa02887e1cc5325f.bindPopup%28popup_3f6163a444114ff2b3c946dcdca5743b%29%0A%20%20%20%20%20%20%20%20%3B%0A%0A%20%20%20%20%20%20%20%20%0A%20%20%20%20%0A%3C/script%3E onload=\"this.contentDocument.open();this.contentDocument.write(    decodeURIComponent(this.getAttribute('data-html')));this.contentDocument.close();\" allowfullscreen webkitallowfullscreen mozallowfullscreen></iframe></div></div>"
      ],
      "text/plain": [
       "<folium.folium.Map at 0x2508a7f5fa0>"
      ]
     },
     "execution_count": 15,
     "metadata": {},
     "output_type": "execute_result"
    }
   ],
   "source": [
    "map_from_df(2000)"
   ]
  },
  {
   "cell_type": "code",
   "execution_count": 16,
   "id": "116dfe80",
   "metadata": {},
   "outputs": [],
   "source": [
    "map_1901 = map_from_df(1901)"
   ]
  },
  {
   "cell_type": "code",
   "execution_count": 17,
   "id": "ce9d6fa1",
   "metadata": {},
   "outputs": [],
   "source": [
    "#map_1901.save('map_1901.html')"
   ]
  },
  {
   "cell_type": "code",
   "execution_count": 18,
   "id": "2413a999",
   "metadata": {},
   "outputs": [
    {
     "data": {
      "text/plain": [
       "array([1901, 1902, 1903, 1904, 1905, 1908, 1909, 1910, 1911, 1912, 1913,\n",
       "       1914, 1915, 1916, 1917, 1918, 1919, 1920, 1921, 1922, 1923, 1924,\n",
       "       1925, 1926, 1927, 1928, 1929, 1930, 1931, 1932, 1933, 1934, 1935,\n",
       "       1936, 1937, 1938, 1939, 1940, 1941, 1942, 1943, 1944, 1945, 1946,\n",
       "       1947, 1948, 1949, 1950, 1951, 1952, 1953, 1954, 1955, 1956, 1957,\n",
       "       1958, 1959, 1960, 1961, 1962, 1963, 1964, 1965, 1966, 1967, 1968,\n",
       "       1969, 1970, 1971, 1972, 1973, 1974, 1975, 1976, 1977, 1978, 1979,\n",
       "       1980, 1981, 1982, 1983, 1984, 1985, 1986, 1987, 1988, 1989, 1990,\n",
       "       1991, 1992, 1993, 1994, 1995, 1996, 1997, 1998, 1999, 2000, 2001,\n",
       "       2002, 2003, 2004, 2005, 2006, 2007, 2008, 2009, 2010, 2011, 2012,\n",
       "       2013, 2014, 2015, 2016, 2017], dtype=int64)"
      ]
     },
     "execution_count": 18,
     "metadata": {},
     "output_type": "execute_result"
    }
   ],
   "source": [
    "df['Year'].unique()[0:-1]"
   ]
  },
  {
   "cell_type": "code",
   "execution_count": 19,
   "id": "534caaa8",
   "metadata": {},
   "outputs": [],
   "source": [
    "# for i in df['Year'].unique()[0:-1]:\n",
    "#     my_map = map_from_df(i)\n",
    "#     my_map.save('map_'+str(i)+'.html')"
   ]
  },
  {
   "cell_type": "markdown",
   "id": "ae628380",
   "metadata": {},
   "source": [
    "# Final Dash"
   ]
  },
  {
   "cell_type": "code",
   "execution_count": 20,
   "id": "241dfd75",
   "metadata": {},
   "outputs": [
    {
     "name": "stderr",
     "output_type": "stream",
     "text": [
      "C:\\Users\\KOSTAS\\miniconda3\\lib\\site-packages\\IPython\\core\\magics\\basic.py:343: UserWarning: Error changing shell color schemes.\n",
      "The 'colors' trait of a ZMQInteractiveShell instance expected any of ['Neutral', 'NoColor', 'LightBG', 'Linux'] (case-insensitive), not the str '[0]'.\n",
      "  color_switch_err('shell')\n",
      "C:\\Users\\KOSTAS\\miniconda3\\lib\\site-packages\\IPython\\core\\magics\\basic.py:350: UserWarning: Error changing exception color schemes.\n",
      "Unrecognized color scheme: [0]\n",
      "Valid schemes: ['NoColor', 'Linux', 'LightBG', 'Neutral', '']\n",
      "  color_switch_err('exception')\n",
      "C:\\Users\\KOSTAS\\miniconda3\\lib\\site-packages\\IPython\\core\\magics\\basic.py:357: UserWarning: Error changing object inspector color schemes.\n",
      "Unrecognized color scheme: [0]\n",
      "Valid schemes: ['NoColor', 'Linux', 'LightBG', 'Neutral', '']\n",
      "  color_switch_err('object inspector')\n"
     ]
    }
   ],
   "source": [
    "colors[0]"
   ]
  },
  {
   "cell_type": "code",
   "execution_count": 22,
   "id": "1d5dbd42",
   "metadata": {
    "scrolled": true
   },
   "outputs": [
    {
     "name": "stdout",
     "output_type": "stream",
     "text": [
      "Dash is running on http://127.0.0.1:8050/\n",
      "\n",
      "Dash is running on http://127.0.0.1:8050/\n",
      "\n",
      " * Serving Flask app '__main__' (lazy loading)\n",
      " * Environment: production\n",
      "\u001b[31m   WARNING: This is a development server. Do not use it in a production deployment.\u001b[0m\n",
      "\u001b[2m   Use a production WSGI server instead.\u001b[0m\n",
      " * Debug mode: off\n"
     ]
    },
    {
     "name": "stderr",
     "output_type": "stream",
     "text": [
      " * Running on http://127.0.0.1:8050/ (Press CTRL+C to quit)\n",
      "127.0.0.1 - - [29/Mar/2022 00:27:35] \"GET / HTTP/1.1\" 200 -\n",
      "127.0.0.1 - - [29/Mar/2022 00:27:36] \"GET /_dash-layout HTTP/1.1\" 200 -\n",
      "127.0.0.1 - - [29/Mar/2022 00:27:36] \"GET /_dash-dependencies HTTP/1.1\" 200 -\n",
      "127.0.0.1 - - [29/Mar/2022 00:27:36] \"GET /_dash-component-suites/dash/dcc/async-dropdown.js HTTP/1.1\" 200 -\n",
      "127.0.0.1 - - [29/Mar/2022 00:27:36] \"GET /_dash-component-suites/dash/dcc/async-graph.js HTTP/1.1\" 200 -\n",
      "127.0.0.1 - - [29/Mar/2022 00:27:36] \"GET /_dash-component-suites/dash/dcc/async-plotlyjs.js HTTP/1.1\" 200 -\n",
      "127.0.0.1 - - [29/Mar/2022 00:27:36] \"GET /_dash-component-suites/dash/dcc/async-slider.js HTTP/1.1\" 200 -\n",
      "127.0.0.1 - - [29/Mar/2022 00:27:36] \"POST /_dash-update-component HTTP/1.1\" 200 -\n",
      "127.0.0.1 - - [29/Mar/2022 00:27:36] \"POST /_dash-update-component HTTP/1.1\" 200 -\n",
      "127.0.0.1 - - [29/Mar/2022 00:27:37] \"POST /_dash-update-component HTTP/1.1\" 200 -\n",
      "127.0.0.1 - - [29/Mar/2022 00:27:37] \"POST /_dash-update-component HTTP/1.1\" 200 -\n",
      "C:\\Users\\KOSTAS\\AppData\\Local\\Temp/ipykernel_14692/4141552327.py:128: FutureWarning:\n",
      "\n",
      "The frame.append method is deprecated and will be removed from pandas in a future version. Use pandas.concat instead.\n",
      "\n",
      "127.0.0.1 - - [29/Mar/2022 00:27:37] \"POST /_dash-update-component HTTP/1.1\" 200 -\n",
      "127.0.0.1 - - [29/Mar/2022 00:27:54] \"POST /_dash-update-component HTTP/1.1\" 200 -\n"
     ]
    }
   ],
   "source": [
    "# Step 1. Launch the application\n",
    "df = pd.read_csv(r'C:\\Users\\KOSTAS\\Desktop\\projects\\E_D_A-projects-python\\Earthquakes_Analysis\\data\\earthquake_data.csv')\n",
    "year_min = df['Year'].min()\n",
    "year_max = df['Year'].max() -1\n",
    "\n",
    "app = dash.Dash(__name__, external_stylesheets=external_stylesheets)\n",
    "\n",
    "colors = {\n",
    "    'background': '#FFFACA',\n",
    "    'text': '#7FDBFF'\n",
    "    },\n",
    "    \n",
    "\n",
    "app.layout = html.Div(style={'backgroundColor': colors[0]['background']},children = [\n",
    "    html.P(\"Year:\"),\n",
    "    dcc.Dropdown(               #Create a dropdown\n",
    "        id='drop-down',\n",
    "        options=df['Year'].unique()[0:-1],\n",
    "        value=df['Year'].unique()[0],\n",
    "    ),\n",
    "    \n",
    "    dcc.Graph(id=\"bar-chart\", figure = {},style = {'display': 'inline-block'}), #  Create a plotly figure\n",
    "    \n",
    "    dcc.Graph(id=\"map-chart\", figure={}, style = {'display': 'inline-block'}), #  Create a plotly figure\n",
    "    \n",
    "    \n",
    "    html.P(\"Major earthquakes map:\"),\n",
    "    html.Iframe(id = 'map', width = '50%', height = '600', style = {'display': 'inline-block'}),\n",
    "    dcc.Graph(id=\"ball-plot\", figure={}, style = {'display': 'inline-block'}),\n",
    "\n",
    "    \n",
    "    #html.P(\"Major earthquakes scatterplot:\", style = {'margin':'auto','width': \"50%\"}),\n",
    "    dcc.Graph(id=\"scatter-plot\", figure={}, style = {'margin':'auto','width': \"50%\"}),\n",
    "    \n",
    "    \n",
    "    dcc.RangeSlider(               # Step 3. Create a slider\n",
    "        id='range-slider',\n",
    "        min=year_min, max=year_max, step=1,\n",
    "        marks={year_min: str(year_min), 1905:'1905',1910:'1910',1915:'1915',1920:'1920',1925:'1925',\n",
    "               1930:'1930',1935:'1935',1940:'1940',1945:'1945',1950:'1950',1955:'1955',\n",
    "               1960:'1960',1965:'1965',1970:'1970',1975:'1975',1980:'1980',1985:'1985',\n",
    "               1990:'1990',1995:'1995',2000:'2000',2005:'2005',2010:'2010',2015:'2015',  year_max: str(year_max)},\n",
    "        value=[0.5, 1.5]\n",
    "    ),\n",
    "    \n",
    "    #dcc.Graph(id=\"ball-plot\", figure={}, style = {'display': 'inline-block'})\n",
    "    \n",
    "])\n",
    "\n",
    "@app.callback(\n",
    "    Output(\"bar-chart\", \"figure\"),\n",
    "   # Output('map-chart',\"figure\")],\n",
    "    [Input(\"drop-down\", \"value\")])\n",
    "\n",
    "def update_bar_chart(year):\n",
    "    df = pd.read_csv(r'C:\\Users\\KOSTAS\\Desktop\\projects\\E_D_A-projects-python\\Earthquakes_Analysis\\data\\earthquake_data.csv')\n",
    "    mask = df['Year'] == year\n",
    "    \n",
    "    df1 = df[mask].groupby('Earthquake_class').count()['Year'].to_frame().reset_index()\n",
    "    \n",
    "    df1.rename(columns = {'Year': 'Number of earthquakes'}, inplace = True)\n",
    "    \n",
    "    fig = px.bar(df1, x= 'Earthquake_class', y= 'Number of earthquakes',width=700, height=400,\n",
    "                title=\"Observed earthquakes of each class for year \" + str(year))\n",
    "    \n",
    "    style={'backgroundColor': colors[0]['background']}\n",
    "    \n",
    "    fig.update_layout({\n",
    "        'plot_bgcolor': colors[0]['background'],\n",
    "        'paper_bgcolor': colors[0]['background'],\n",
    "    })\n",
    "    \n",
    "    return fig\n",
    "\n",
    "@app.callback(\n",
    "    Output(\"map-chart\", \"figure\"),\n",
    "   # Output('map-chart',\"figure\")],\n",
    "    [Input(\"drop-down\", \"value\")])\n",
    "\n",
    "def update_bar_chart(year):\n",
    "    df = pd.read_csv(r'C:\\Users\\KOSTAS\\Desktop\\projects\\E_D_A-projects-python\\Earthquakes_Analysis\\data\\earthquake_data.csv')\n",
    "    mask = df['Year'] == year\n",
    "    \n",
    "    df1 = df[mask].groupby('Month').count()['Year'].to_frame().reset_index()\n",
    "    \n",
    "    df1.rename(columns = {'Year': 'Number of earthquakes'}, inplace = True)\n",
    "    \n",
    "    fig = px.bar(df1, x= 'Month', y= 'Number of earthquakes',width=700, height=400,\n",
    "                title=\"Observed earthquakes per month for year \" + str(year))\n",
    "    \n",
    "    fig.update_layout({\n",
    "        'plot_bgcolor': colors[0]['background'],\n",
    "        'paper_bgcolor': colors[0]['background'],\n",
    "    })\n",
    "    \n",
    "    return fig\n",
    "# ws edw doulevei ok\n",
    "\n",
    "@app.callback(\n",
    "    Output(\"scatter-plot\", \"figure\"),\n",
    "   # Output('map-chart',\"figure\")],\n",
    "    [Input(\"range-slider\", \"value\")])\n",
    "\n",
    "def my_scatterplot(slider_range):\n",
    "    major_df = pd.read_csv(r'C:\\Users\\KOSTAS\\Desktop\\projects\\E_D_A-projects-python\\Earthquakes_Analysis\\data\\major_earthquake_data.csv')\n",
    "    low, high = slider_range\n",
    "    my_df = major_df[(major_df['Year'] >= low) & (major_df['Year'] <= high)]\n",
    "    fig = px.scatter(my_df, x='Year', y='Magnitude (Richter)', color='District',\n",
    "                 size= 'Magnitude (Richter)', title = 'Major earthquakes (with districts)')\n",
    "    \n",
    "    fig.update_layout({\n",
    "        'plot_bgcolor': colors[0]['background'],\n",
    "        'paper_bgcolor': colors[0]['background'],\n",
    "    })\n",
    "    \n",
    "    return fig\n",
    "\n",
    "\n",
    "@app.callback(\n",
    "    Output(\"ball-plot\", \"figure\"),\n",
    "   # Output('map-chart',\"figure\")],\n",
    "    [Input(\"drop-down\", \"value\")])\n",
    "\n",
    "def ball_plot(year):\n",
    "    df = pd.read_csv(r'C:\\Users\\KOSTAS\\Desktop\\projects\\E_D_A-projects-python\\Earthquakes_Analysis\\data\\earthquake_data.csv')\n",
    "    many = df[(df['Year'] == 1953) & (df['Month'] == 8) & (df['Date'] == 13)]\n",
    "    new_row = many.iloc[0] \n",
    "    many = many.append(new_row, ignore_index = True)\n",
    "    many.at[6,'Earthquake_class']= 'Moderate_Earthquake'\n",
    "    many.at[6,'Magnitude (Richter)']= 10\n",
    "    \n",
    "    ani = px.scatter(many, x=\"Hours\", y=\"Magnitude (Richter)\", animation_frame=\"Hours\", \n",
    "           size=\"Magnitude (Richter)\", color=\"Earthquake_class\", hover_name=\"Magnitude (Richter)\",\n",
    "           size_max=30, range_x=[0,16], range_y=[4,6], title = 'Earthquakes in Ithaka 13/8/1953')\n",
    "    \n",
    "    ani.update_layout({\n",
    "        'plot_bgcolor': colors[0]['background'],\n",
    "        'paper_bgcolor': colors[0]['background'],\n",
    "    })\n",
    "    \n",
    "    \n",
    "    return ani\n",
    "\n",
    "\n",
    "@app.callback(\n",
    "    Output(\"map\", \"srcDoc\"),\n",
    "    [Input(\"drop-down\", \"value\")])\n",
    "\n",
    "def update_map(year):\n",
    "    #if year == 1901:\n",
    "     #   return open(r'C:\\Users\\KOSTAS\\Desktop\\projects\\E_D_A-projects-python\\Earthquakes_Analysis\\maps\\map_1901.html','r').read()\n",
    "    #else:\n",
    "     #   return open(r'C:\\Users\\KOSTAS\\Desktop\\projects\\E_D_A-projects-python\\Earthquakes_Analysis\\maps\\map_1910.html','r').read()\n",
    "    for i in range(1901,2018):\n",
    "        if i == year:\n",
    "            return open(r'C:\\Users\\KOSTAS\\Desktop\\projects\\E_D_A-projects-python\\Earthquakes_Analysis\\maps\\map_' + str(i) + '.html','r').read()\n",
    "\n",
    "    \n",
    "    \n",
    "    #return open('map_'+str(year)+'.html', 'r').read()\n",
    "\n",
    "\n",
    "app.run_server(port=8050, debug = False)"
   ]
  },
  {
   "cell_type": "code",
   "execution_count": null,
   "id": "35b94b30",
   "metadata": {},
   "outputs": [],
   "source": []
  }
 ],
 "metadata": {
  "kernelspec": {
   "display_name": "Python 3 (ipykernel)",
   "language": "python",
   "name": "python3"
  },
  "language_info": {
   "codemirror_mode": {
    "name": "ipython",
    "version": 3
   },
   "file_extension": ".py",
   "mimetype": "text/x-python",
   "name": "python",
   "nbconvert_exporter": "python",
   "pygments_lexer": "ipython3",
   "version": "3.8.10"
  }
 },
 "nbformat": 4,
 "nbformat_minor": 5
}
